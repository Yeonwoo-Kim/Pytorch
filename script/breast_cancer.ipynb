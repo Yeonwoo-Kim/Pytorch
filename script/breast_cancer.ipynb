{
  "nbformat": 4,
  "nbformat_minor": 0,
  "metadata": {
    "colab": {
      "name": "breast cancer.ipynb",
      "provenance": [],
      "collapsed_sections": [],
      "authorship_tag": "ABX9TyMaJdXFZOB5+Q8nVGwT7xA2"
    },
    "kernelspec": {
      "name": "python3",
      "display_name": "Python 3"
    },
    "accelerator": "GPU"
  },
  "cells": [
    {
      "cell_type": "code",
      "metadata": {
        "id": "Mbdktp4mz5Ta",
        "colab_type": "code",
        "colab": {
          "base_uri": "https://localhost:8080/",
          "height": 35
        },
        "outputId": "aff26085-858f-4bf8-ced7-bbb5ccdb0b01"
      },
      "source": [
        "import numpy as np\n",
        "import pandas as pd\n",
        "import torch\n",
        "import torch.optim as optim\n",
        "import numpy as np\n",
        "import pandas as pd\n",
        "import torch.nn.functional as F\n",
        "import random\n",
        "from sklearn import preprocessing\n",
        "import torch.nn as nn\n",
        "import torchvision.datasets as data\n",
        "import torchvision.transforms as transforms\n",
        "from sklearn.linear_model import LinearRegression\n",
        "from sklearn.preprocessing import MinMaxScaler\n",
        "\n",
        "device = 'cuda' if torch.cuda.is_available() else 'cpu'\n",
        "\n",
        "if device == 'cuda':\n",
        "  torch.cuda.manual_seed_all(777)\n",
        "\n",
        "random.seed(777)\n",
        "torch.manual_seed(777)"
      ],
      "execution_count": null,
      "outputs": [
        {
          "output_type": "execute_result",
          "data": {
            "text/plain": [
              "<torch._C.Generator at 0x7f05a70af290>"
            ]
          },
          "metadata": {
            "tags": []
          },
          "execution_count": 2
        }
      ]
    },
    {
      "cell_type": "code",
      "metadata": {
        "id": "GnJ-9vLZz5oQ",
        "colab_type": "code",
        "colab": {
          "base_uri": "https://localhost:8080/",
          "height": 179
        },
        "outputId": "78fb2068-7e09-4b25-d741-08879408100e"
      },
      "source": [
        "train=pd.read_csv(\"2020.AI.cancer-train.csv\")\n",
        "train.head(3)"
      ],
      "execution_count": null,
      "outputs": [
        {
          "output_type": "execute_result",
          "data": {
            "text/html": [
              "<div>\n",
              "<style scoped>\n",
              "    .dataframe tbody tr th:only-of-type {\n",
              "        vertical-align: middle;\n",
              "    }\n",
              "\n",
              "    .dataframe tbody tr th {\n",
              "        vertical-align: top;\n",
              "    }\n",
              "\n",
              "    .dataframe thead th {\n",
              "        text-align: right;\n",
              "    }\n",
              "</style>\n",
              "<table border=\"1\" class=\"dataframe\">\n",
              "  <thead>\n",
              "    <tr style=\"text-align: right;\">\n",
              "      <th></th>\n",
              "      <th>diagnosis</th>\n",
              "      <th>radius_mean</th>\n",
              "      <th>texture_mean</th>\n",
              "      <th>perimeter_mean</th>\n",
              "      <th>area_mean</th>\n",
              "      <th>smoothness_mean</th>\n",
              "      <th>compactness_mean</th>\n",
              "      <th>concavity_mean</th>\n",
              "      <th>concave points_mean</th>\n",
              "      <th>symmetry_mean</th>\n",
              "      <th>fractal_dimension_mean</th>\n",
              "      <th>radius_se</th>\n",
              "      <th>texture_se</th>\n",
              "      <th>perimeter_se</th>\n",
              "      <th>area_se</th>\n",
              "      <th>smoothness_se</th>\n",
              "      <th>compactness_se</th>\n",
              "      <th>concavity_se</th>\n",
              "      <th>concave points_se</th>\n",
              "      <th>symmetry_se</th>\n",
              "      <th>fractal_dimension_se</th>\n",
              "      <th>radius_worst</th>\n",
              "      <th>texture_worst</th>\n",
              "      <th>perimeter_worst</th>\n",
              "      <th>area_worst</th>\n",
              "      <th>smoothness_worst</th>\n",
              "      <th>compactness_worst</th>\n",
              "      <th>concavity_worst</th>\n",
              "      <th>concave points_worst</th>\n",
              "      <th>symmetry_worst</th>\n",
              "      <th>fractal_dimension_worst</th>\n",
              "      <th>Unnamed: 32</th>\n",
              "    </tr>\n",
              "  </thead>\n",
              "  <tbody>\n",
              "    <tr>\n",
              "      <th>0</th>\n",
              "      <td>0</td>\n",
              "      <td>8.734</td>\n",
              "      <td>16.84</td>\n",
              "      <td>55.27</td>\n",
              "      <td>234.3</td>\n",
              "      <td>0.10390</td>\n",
              "      <td>0.07428</td>\n",
              "      <td>0.00000</td>\n",
              "      <td>0.00000</td>\n",
              "      <td>0.1985</td>\n",
              "      <td>0.07098</td>\n",
              "      <td>0.5169</td>\n",
              "      <td>2.079</td>\n",
              "      <td>3.167</td>\n",
              "      <td>28.85</td>\n",
              "      <td>0.015820</td>\n",
              "      <td>0.019660</td>\n",
              "      <td>0.00000</td>\n",
              "      <td>0.000000</td>\n",
              "      <td>0.01865</td>\n",
              "      <td>0.006736</td>\n",
              "      <td>10.17</td>\n",
              "      <td>22.80</td>\n",
              "      <td>64.01</td>\n",
              "      <td>317.0</td>\n",
              "      <td>0.1460</td>\n",
              "      <td>0.1310</td>\n",
              "      <td>0.0000</td>\n",
              "      <td>0.00000</td>\n",
              "      <td>0.2445</td>\n",
              "      <td>0.08865</td>\n",
              "      <td>NaN</td>\n",
              "    </tr>\n",
              "    <tr>\n",
              "      <th>1</th>\n",
              "      <td>0</td>\n",
              "      <td>11.360</td>\n",
              "      <td>17.57</td>\n",
              "      <td>72.49</td>\n",
              "      <td>399.8</td>\n",
              "      <td>0.08858</td>\n",
              "      <td>0.05313</td>\n",
              "      <td>0.02783</td>\n",
              "      <td>0.02100</td>\n",
              "      <td>0.1601</td>\n",
              "      <td>0.05913</td>\n",
              "      <td>0.1916</td>\n",
              "      <td>1.555</td>\n",
              "      <td>1.359</td>\n",
              "      <td>13.66</td>\n",
              "      <td>0.005391</td>\n",
              "      <td>0.009947</td>\n",
              "      <td>0.01163</td>\n",
              "      <td>0.005872</td>\n",
              "      <td>0.01341</td>\n",
              "      <td>0.001659</td>\n",
              "      <td>13.05</td>\n",
              "      <td>36.32</td>\n",
              "      <td>85.07</td>\n",
              "      <td>521.3</td>\n",
              "      <td>0.1453</td>\n",
              "      <td>0.1622</td>\n",
              "      <td>0.1811</td>\n",
              "      <td>0.08698</td>\n",
              "      <td>0.2973</td>\n",
              "      <td>0.07745</td>\n",
              "      <td>NaN</td>\n",
              "    </tr>\n",
              "    <tr>\n",
              "      <th>2</th>\n",
              "      <td>1</td>\n",
              "      <td>14.950</td>\n",
              "      <td>17.57</td>\n",
              "      <td>96.85</td>\n",
              "      <td>678.1</td>\n",
              "      <td>0.11670</td>\n",
              "      <td>0.13050</td>\n",
              "      <td>0.15390</td>\n",
              "      <td>0.08624</td>\n",
              "      <td>0.1957</td>\n",
              "      <td>0.06216</td>\n",
              "      <td>1.2960</td>\n",
              "      <td>1.452</td>\n",
              "      <td>8.419</td>\n",
              "      <td>101.90</td>\n",
              "      <td>0.010000</td>\n",
              "      <td>0.034800</td>\n",
              "      <td>0.06577</td>\n",
              "      <td>0.028010</td>\n",
              "      <td>0.05168</td>\n",
              "      <td>0.002887</td>\n",
              "      <td>18.55</td>\n",
              "      <td>21.43</td>\n",
              "      <td>121.40</td>\n",
              "      <td>971.4</td>\n",
              "      <td>0.1411</td>\n",
              "      <td>0.2164</td>\n",
              "      <td>0.3355</td>\n",
              "      <td>0.16670</td>\n",
              "      <td>0.3414</td>\n",
              "      <td>0.07147</td>\n",
              "      <td>NaN</td>\n",
              "    </tr>\n",
              "  </tbody>\n",
              "</table>\n",
              "</div>"
            ],
            "text/plain": [
              "   diagnosis  radius_mean  ...  fractal_dimension_worst  Unnamed: 32\n",
              "0          0        8.734  ...                  0.08865          NaN\n",
              "1          0       11.360  ...                  0.07745          NaN\n",
              "2          1       14.950  ...                  0.07147          NaN\n",
              "\n",
              "[3 rows x 32 columns]"
            ]
          },
          "metadata": {
            "tags": []
          },
          "execution_count": 182
        }
      ]
    },
    {
      "cell_type": "code",
      "metadata": {
        "id": "oIyfpbq8z51U",
        "colab_type": "code",
        "colab": {
          "base_uri": "https://localhost:8080/",
          "height": 142
        },
        "outputId": "abd95baa-df3d-4861-d779-660191611d7f"
      },
      "source": [
        "x_train=train.iloc[:,1:-1]\n",
        "y_train=train.iloc[:,[0]]\n",
        "y_train.head(3)"
      ],
      "execution_count": null,
      "outputs": [
        {
          "output_type": "execute_result",
          "data": {
            "text/html": [
              "<div>\n",
              "<style scoped>\n",
              "    .dataframe tbody tr th:only-of-type {\n",
              "        vertical-align: middle;\n",
              "    }\n",
              "\n",
              "    .dataframe tbody tr th {\n",
              "        vertical-align: top;\n",
              "    }\n",
              "\n",
              "    .dataframe thead th {\n",
              "        text-align: right;\n",
              "    }\n",
              "</style>\n",
              "<table border=\"1\" class=\"dataframe\">\n",
              "  <thead>\n",
              "    <tr style=\"text-align: right;\">\n",
              "      <th></th>\n",
              "      <th>diagnosis</th>\n",
              "    </tr>\n",
              "  </thead>\n",
              "  <tbody>\n",
              "    <tr>\n",
              "      <th>0</th>\n",
              "      <td>0</td>\n",
              "    </tr>\n",
              "    <tr>\n",
              "      <th>1</th>\n",
              "      <td>0</td>\n",
              "    </tr>\n",
              "    <tr>\n",
              "      <th>2</th>\n",
              "      <td>1</td>\n",
              "    </tr>\n",
              "  </tbody>\n",
              "</table>\n",
              "</div>"
            ],
            "text/plain": [
              "   diagnosis\n",
              "0          0\n",
              "1          0\n",
              "2          1"
            ]
          },
          "metadata": {
            "tags": []
          },
          "execution_count": 183
        }
      ]
    },
    {
      "cell_type": "code",
      "metadata": {
        "id": "D0pdFRpcz59R",
        "colab_type": "code",
        "colab": {}
      },
      "source": [
        "scaler= MinMaxScaler()\n",
        "x_train = scaler.fit_transform(x_train)\n",
        "x_train = torch.FloatTensor(np.array(x_train)).to(device)\n",
        "y_train = torch.FloatTensor(np.array(y_train)).to(device) "
      ],
      "execution_count": null,
      "outputs": []
    },
    {
      "cell_type": "code",
      "metadata": {
        "id": "N-WstscKz6EE",
        "colab_type": "code",
        "colab": {}
      },
      "source": [
        "test=pd.read_csv(\"2020.AI.cancer-test.csv\")\n",
        "test=test.iloc[:,:-1]\n",
        "test=scaler.transform(test)\n",
        "test = torch.FloatTensor(np.array(test)).to(device)\n"
      ],
      "execution_count": null,
      "outputs": []
    },
    {
      "cell_type": "code",
      "metadata": {
        "id": "PJqxFIpU3DUB",
        "colab_type": "code",
        "colab": {
          "base_uri": "https://localhost:8080/",
          "height": 35
        },
        "outputId": "f4c19a32-0c64-4940-a8db-c74242faf468"
      },
      "source": [
        "x_train.shape"
      ],
      "execution_count": null,
      "outputs": [
        {
          "output_type": "execute_result",
          "data": {
            "text/plain": [
              "torch.Size([398, 30])"
            ]
          },
          "metadata": {
            "tags": []
          },
          "execution_count": 187
        }
      ]
    },
    {
      "cell_type": "code",
      "metadata": {
        "id": "AW7tAFj43TJE",
        "colab_type": "code",
        "colab": {
          "base_uri": "https://localhost:8080/",
          "height": 35
        },
        "outputId": "13fb65ef-2b7c-42c8-e696-95a6ece3a153"
      },
      "source": [
        "test.shape"
      ],
      "execution_count": null,
      "outputs": [
        {
          "output_type": "execute_result",
          "data": {
            "text/plain": [
              "torch.Size([171, 30])"
            ]
          },
          "metadata": {
            "tags": []
          },
          "execution_count": 188
        }
      ]
    },
    {
      "cell_type": "code",
      "metadata": {
        "id": "eVylinRN3VMi",
        "colab_type": "code",
        "colab": {}
      },
      "source": [
        "learning_rate = 1e-4\n",
        "training_epochs = 5000\n",
        "batch_size = 100\n",
        "drop_prob = 0.5"
      ],
      "execution_count": null,
      "outputs": []
    },
    {
      "cell_type": "code",
      "metadata": {
        "id": "jFqIltyk3XQC",
        "colab_type": "code",
        "colab": {
          "base_uri": "https://localhost:8080/",
          "height": 125
        },
        "outputId": "a1a566df-7405-45de-d1ad-e1a134b195ae"
      },
      "source": [
        "train_dataset = torch.utils.data.TensorDataset(x_train, y_train)\n",
        "\n",
        "data_loader = torch.utils.data.DataLoader(dataset=train_dataset,\n",
        "                                          batch_size=batch_size,\n",
        "                                          shuffle=True,\n",
        "                                          drop_last=True)\n",
        "\n",
        "linear1 = torch.nn.Linear(30,60,bias=True)\n",
        "linear2 = torch.nn.Linear(60,120,bias=True)\n",
        "linear3 = torch.nn.Linear(120,60,bias=True)\n",
        "linear4 = torch.nn.Linear(60,30,bias=True)\n",
        "linear5 = torch.nn.Linear(30,1,bias=True)\n",
        "relu = torch.nn.ReLU()\n",
        "\n",
        "dropout = torch.nn.Dropout(p=drop_prob)\n",
        "torch.nn.init.xavier_uniform_(linear1.weight)\n",
        "torch.nn.init.xavier_uniform_(linear2.weight)\n",
        "torch.nn.init.xavier_uniform_(linear3.weight)\n",
        "torch.nn.init.xavier_uniform_(linear4.weight)\n",
        "torch.nn.init.xavier_uniform_(linear5.weight)"
      ],
      "execution_count": null,
      "outputs": [
        {
          "output_type": "execute_result",
          "data": {
            "text/plain": [
              "Parameter containing:\n",
              "tensor([[-0.0963, -0.3037,  0.0485,  0.1444,  0.2396,  0.4009, -0.1254,  0.0262,\n",
              "         -0.3097,  0.3250,  0.4272, -0.0835, -0.1038,  0.1512, -0.1053,  0.3460,\n",
              "          0.3250, -0.0398, -0.2968, -0.1335,  0.4318, -0.2030, -0.1312, -0.0811,\n",
              "         -0.0467,  0.2580,  0.0797, -0.2830,  0.3734,  0.0904]],\n",
              "       requires_grad=True)"
            ]
          },
          "metadata": {
            "tags": []
          },
          "execution_count": 205
        }
      ]
    },
    {
      "cell_type": "code",
      "metadata": {
        "id": "rOWsIxe13XU-",
        "colab_type": "code",
        "colab": {}
      },
      "source": [
        "model = torch.nn.Sequential(linear1,relu,\n",
        "                            linear2,relu,\n",
        "                            linear3,relu,\n",
        "                            linear4,relu,\n",
        "                            linear5).to(device)"
      ],
      "execution_count": null,
      "outputs": []
    },
    {
      "cell_type": "code",
      "metadata": {
        "id": "VN7c-KCa3Xac",
        "colab_type": "code",
        "colab": {}
      },
      "source": [
        "loss = torch.nn.BCEWithLogitsLoss().to(device) \n",
        "\n",
        "optimizer = torch.optim.Adam(model.parameters(), lr=learning_rate) "
      ],
      "execution_count": null,
      "outputs": []
    },
    {
      "cell_type": "code",
      "metadata": {
        "id": "j_TaOrxg3Xda",
        "colab_type": "code",
        "colab": {
          "base_uri": "https://localhost:8080/",
          "height": 125
        },
        "outputId": "7af84b1b-34b0-41d8-d947-55f6ce2f5b3d"
      },
      "source": [
        "total_batch = len(data_loader)\n",
        "model_h = []\n",
        "error_h = []\n",
        "for epoch in range(training_epochs):\n",
        "  avg_cost = 0\n",
        "\n",
        "  for X, Y in data_loader:\n",
        "\n",
        "        X = X.to(device)\n",
        "        Y = Y.to(device)\n",
        "  \n",
        "     \n",
        "        optimizer.zero_grad()\n",
        "        hypothesis = model(X)\n",
        "        \n",
        "        cost = loss(hypothesis, Y)\n",
        "        cost.backward()\n",
        "        optimizer.step()\n",
        "        avg_cost += cost\n",
        "        avg_cost /= total_batch\n",
        "        model_h.append(model)\n",
        "        error_h.append(avg_cost)\n",
        "\n",
        "  if epoch % 1000 == 0 :\n",
        "        print('Epoch:', '%04d' % (epoch), 'cost =', '{:.9f}'.format(avg_cost))\n",
        "\n",
        "print('Epoch:', '%04d' % (epoch), 'cost =', '{:.9f}'.format(avg_cost))"
      ],
      "execution_count": null,
      "outputs": [
        {
          "output_type": "stream",
          "text": [
            "Epoch: 0000 cost = 0.334104955\n",
            "Epoch: 1000 cost = 0.003389860\n",
            "Epoch: 2000 cost = 0.000393333\n",
            "Epoch: 3000 cost = 0.000045172\n",
            "Epoch: 4000 cost = 0.000002494\n",
            "Epoch: 4999 cost = 0.000000552\n"
          ],
          "name": "stdout"
        }
      ]
    },
    {
      "cell_type": "code",
      "metadata": {
        "id": "vrExreZ3CTzz",
        "colab_type": "code",
        "colab": {}
      },
      "source": [
        "best_model = model_h[np.argmin(error_h)]"
      ],
      "execution_count": null,
      "outputs": []
    },
    {
      "cell_type": "code",
      "metadata": {
        "id": "K_FFHlJr3XYM",
        "colab_type": "code",
        "colab": {}
      },
      "source": [
        "with torch.no_grad():\n",
        "  model.eval()\n",
        "\n",
        "  prediction = best_model(test)\n",
        "\n",
        "prediction = prediction.cpu().numpy().reshape(-1,1)\n",
        "prediction = prediction >= 0.5\n",
        "prediction=prediction.astype('int')"
      ],
      "execution_count": null,
      "outputs": []
    }
  ]
}
